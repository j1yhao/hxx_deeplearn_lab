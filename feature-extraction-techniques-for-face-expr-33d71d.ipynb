{
 "cells": [
  {
   "cell_type": "markdown",
   "metadata": {},
   "source": [
    "## This notebook contains several feature extraction techniques which are used to extract features from the facial images and then passed to a CNN model to compare their results"
   ]
  },
  {
   "cell_type": "code",
   "execution_count": 1,
   "metadata": {
    "_cell_guid": "b1076dfc-b9ad-4769-8c92-a6c4dae69d19",
    "_uuid": "8f2839f25d086af736a60e9eeb907d3b93b6e0e5",
    "execution": {
     "iopub.execute_input": "2023-12-09T08:28:43.609441Z",
     "iopub.status.busy": "2023-12-09T08:28:43.608688Z",
     "iopub.status.idle": "2023-12-09T08:28:49.930746Z",
     "shell.execute_reply": "2023-12-09T08:28:49.929741Z",
     "shell.execute_reply.started": "2023-12-09T08:28:43.609325Z"
    }
   },
   "outputs": [
    {
     "name": "stderr",
     "output_type": "stream",
     "text": [
      "C:\\Users\\86180\\AppData\\Roaming\\Python\\Python39\\site-packages\\scipy\\__init__.py:177: UserWarning: A NumPy version >=1.18.5 and <1.26.0 is required for this version of SciPy (detected version 1.26.2\n",
      "  warnings.warn(f\"A NumPy version >={np_minversion} and <{np_maxversion}\"\n"
     ]
    },
    {
     "ename": "ModuleNotFoundError",
     "evalue": "No module named 'cv2'",
     "output_type": "error",
     "traceback": [
      "\u001b[1;31m---------------------------------------------------------------------------\u001b[0m",
      "\u001b[1;31mModuleNotFoundError\u001b[0m                       Traceback (most recent call last)",
      "Input \u001b[1;32mIn [1]\u001b[0m, in \u001b[0;36m<cell line: 5>\u001b[1;34m()\u001b[0m\n\u001b[0;32m      3\u001b[0m \u001b[38;5;28;01mimport\u001b[39;00m \u001b[38;5;21;01mmatplotlib\u001b[39;00m\u001b[38;5;21;01m.\u001b[39;00m\u001b[38;5;21;01mpyplot\u001b[39;00m \u001b[38;5;28;01mas\u001b[39;00m \u001b[38;5;21;01mplt\u001b[39;00m\n\u001b[0;32m      4\u001b[0m \u001b[38;5;28;01mimport\u001b[39;00m \u001b[38;5;21;01mseaborn\u001b[39;00m \u001b[38;5;28;01mas\u001b[39;00m \u001b[38;5;21;01msns\u001b[39;00m\n\u001b[1;32m----> 5\u001b[0m \u001b[38;5;28;01mimport\u001b[39;00m \u001b[38;5;21;01mcv2\u001b[39;00m\n\u001b[0;32m      6\u001b[0m \u001b[38;5;28;01mimport\u001b[39;00m \u001b[38;5;21;01mos\u001b[39;00m\n\u001b[0;32m      7\u001b[0m \u001b[38;5;28;01mimport\u001b[39;00m \u001b[38;5;21;01mrandom\u001b[39;00m\n",
      "\u001b[1;31mModuleNotFoundError\u001b[0m: No module named 'cv2'"
     ]
    }
   ],
   "source": [
    "import numpy as np \n",
    "import pandas as pd\n",
    "import matplotlib.pyplot as plt\n",
    "import seaborn as sns\n",
    "import cv2\n",
    "import os\n",
    "import random\n",
    "from tqdm import tqdm\n",
    "from sklearn.model_selection import train_test_split\n",
    "import tensorflow as tf\n",
    "from tensorflow.keras.preprocessing.image import ImageDataGenerator\n",
    "from tensorflow.keras.models import Sequential\n",
    "from tensorflow.keras.callbacks import Callback, EarlyStopping, ReduceLROnPlateau\n",
    "from tensorflow.keras.layers import Conv2D, BatchNormalization, MaxPool2D, Dropout, Flatten, Dense\n",
    "from tensorflow.keras.optimizers import Adam,RMSprop,SGD,Adamax\n",
    "from tensorflow.keras import regularizers"
   ]
  },
  {
   "cell_type": "code",
   "execution_count": 3,
   "metadata": {
    "execution": {
     "iopub.execute_input": "2023-12-09T08:29:08.088729Z",
     "iopub.status.busy": "2023-12-09T08:29:08.088322Z",
     "iopub.status.idle": "2023-12-09T08:29:08.092698Z",
     "shell.execute_reply": "2023-12-09T08:29:08.091905Z",
     "shell.execute_reply.started": "2023-12-09T08:29:08.088695Z"
    }
   },
   "outputs": [],
   "source": [
    "np.random.seed(42)"
   ]
  },
  {
   "cell_type": "markdown",
   "metadata": {},
   "source": [
    "# loading data"
   ]
  },
  {
   "cell_type": "code",
   "execution_count": 4,
   "metadata": {
    "execution": {
     "iopub.execute_input": "2023-12-09T08:29:12.133711Z",
     "iopub.status.busy": "2023-12-09T08:29:12.133118Z",
     "iopub.status.idle": "2023-12-09T08:29:12.152132Z",
     "shell.execute_reply": "2023-12-09T08:29:12.150990Z",
     "shell.execute_reply.started": "2023-12-09T08:29:12.133659Z"
    }
   },
   "outputs": [
    {
     "data": {
      "text/plain": [
       "['ck', 'CK+48']"
      ]
     },
     "execution_count": 4,
     "metadata": {},
     "output_type": "execute_result"
    }
   ],
   "source": [
    "os.listdir('/kaggle/input/ckplus')"
   ]
  },
  {
   "cell_type": "code",
   "execution_count": 6,
   "metadata": {
    "execution": {
     "iopub.execute_input": "2023-12-09T08:29:20.504886Z",
     "iopub.status.busy": "2023-12-09T08:29:20.504476Z",
     "iopub.status.idle": "2023-12-09T08:29:20.508999Z",
     "shell.execute_reply": "2023-12-09T08:29:20.508187Z",
     "shell.execute_reply.started": "2023-12-09T08:29:20.504847Z"
    }
   },
   "outputs": [],
   "source": [
    "DATADIR = r'/kaggle/input/ckplus/CK+48'"
   ]
  },
  {
   "cell_type": "code",
   "execution_count": 7,
   "metadata": {
    "execution": {
     "iopub.execute_input": "2023-12-09T08:29:26.801675Z",
     "iopub.status.busy": "2023-12-09T08:29:26.800978Z",
     "iopub.status.idle": "2023-12-09T08:29:26.815300Z",
     "shell.execute_reply": "2023-12-09T08:29:26.814386Z",
     "shell.execute_reply.started": "2023-12-09T08:29:26.801634Z"
    }
   },
   "outputs": [
    {
     "data": {
      "text/plain": [
       "['surprise', 'fear', 'sadness', 'disgust', 'contempt', 'happy', 'anger']"
      ]
     },
     "execution_count": 7,
     "metadata": {},
     "output_type": "execute_result"
    }
   ],
   "source": [
    "CATEGORIES = os.listdir(DATADIR)\n",
    "CATEGORIES"
   ]
  },
  {
   "cell_type": "code",
   "execution_count": null,
   "metadata": {
    "execution": {
     "iopub.execute_input": "2021-06-20T07:25:00.737028Z",
     "iopub.status.busy": "2021-06-20T07:25:00.736798Z",
     "iopub.status.idle": "2021-06-20T07:25:00.743931Z",
     "shell.execute_reply": "2021-06-20T07:25:00.743182Z",
     "shell.execute_reply.started": "2021-06-20T07:25:00.737006Z"
    }
   },
   "outputs": [],
   "source": [
    "def load_data():\n",
    "    DATADIR = r'/kaggle/input/ckplus/CK+48'\n",
    "    data = []\n",
    "    # loading training data\n",
    "    for category in CATEGORIES:\n",
    "        # create path to image of respective expression\n",
    "        path = os.path.join(DATADIR, category)\n",
    "        # get the classification  for each expression \n",
    "        class_num = CATEGORIES.index(category)\n",
    "\n",
    "        for img in tqdm(os.listdir(path)):\n",
    "            img_array = cv2.imread(os.path.join(path, img), 0)\n",
    "            data.append([img_array, class_num])\n",
    "            \n",
    "    return data"
   ]
  },
  {
   "cell_type": "code",
   "execution_count": null,
   "metadata": {
    "execution": {
     "iopub.execute_input": "2021-06-20T07:25:00.747508Z",
     "iopub.status.busy": "2021-06-20T07:25:00.747026Z",
     "iopub.status.idle": "2021-06-20T07:25:05.696404Z",
     "shell.execute_reply": "2021-06-20T07:25:05.694954Z",
     "shell.execute_reply.started": "2021-06-20T07:25:00.747484Z"
    }
   },
   "outputs": [],
   "source": [
    "data = load_data()"
   ]
  },
  {
   "cell_type": "code",
   "execution_count": null,
   "metadata": {
    "execution": {
     "iopub.execute_input": "2021-06-20T07:25:05.69942Z",
     "iopub.status.busy": "2021-06-20T07:25:05.699117Z",
     "iopub.status.idle": "2021-06-20T07:25:05.704754Z",
     "shell.execute_reply": "2021-06-20T07:25:05.703689Z",
     "shell.execute_reply.started": "2021-06-20T07:25:05.699388Z"
    }
   },
   "outputs": [],
   "source": [
    "len(data)"
   ]
  },
  {
   "cell_type": "markdown",
   "metadata": {},
   "source": [
    "# Lets Visualize some images "
   ]
  },
  {
   "cell_type": "code",
   "execution_count": null,
   "metadata": {
    "execution": {
     "iopub.execute_input": "2021-06-20T07:25:05.707604Z",
     "iopub.status.busy": "2021-06-20T07:25:05.707186Z",
     "iopub.status.idle": "2021-06-20T07:25:06.640625Z",
     "shell.execute_reply": "2021-06-20T07:25:06.639686Z",
     "shell.execute_reply.started": "2021-06-20T07:25:05.707568Z"
    }
   },
   "outputs": [],
   "source": [
    "L = 4\n",
    "W = 4\n",
    "fig, axes = plt.subplots(L, W, figsize = (15,15))\n",
    "axes = axes.ravel()\n",
    "\n",
    "for i in range(0, L * W):  \n",
    "    sample = random.choice(data)\n",
    "    axes[i].set_title(\"Expression = \"+str(CATEGORIES[sample[1]]))\n",
    "    axes[i].imshow(sample[0], cmap='gray')\n",
    "    axes[i].axis('off')\n",
    "plt.subplots_adjust(wspace=0.5)"
   ]
  },
  {
   "cell_type": "markdown",
   "metadata": {},
   "source": [
    "# Creating training and testing data"
   ]
  },
  {
   "cell_type": "code",
   "execution_count": null,
   "metadata": {
    "execution": {
     "iopub.execute_input": "2021-06-20T07:25:06.642161Z",
     "iopub.status.busy": "2021-06-20T07:25:06.641784Z",
     "iopub.status.idle": "2021-06-20T07:25:06.65253Z",
     "shell.execute_reply": "2021-06-20T07:25:06.651585Z",
     "shell.execute_reply.started": "2021-06-20T07:25:06.642123Z"
    }
   },
   "outputs": [],
   "source": [
    "X = np.array([ x[0] for x in data])\n",
    "y = np.array([Y[1] for Y in data])"
   ]
  },
  {
   "cell_type": "code",
   "execution_count": null,
   "metadata": {
    "execution": {
     "iopub.execute_input": "2021-06-20T07:25:06.654505Z",
     "iopub.status.busy": "2021-06-20T07:25:06.653954Z",
     "iopub.status.idle": "2021-06-20T07:25:06.661927Z",
     "shell.execute_reply": "2021-06-20T07:25:06.661152Z",
     "shell.execute_reply.started": "2021-06-20T07:25:06.654429Z"
    }
   },
   "outputs": [],
   "source": [
    "X_train, X_test, y_train, y_test = train_test_split(X, y, test_size=0.2, random_state=42, shuffle = True)"
   ]
  },
  {
   "cell_type": "code",
   "execution_count": null,
   "metadata": {
    "execution": {
     "iopub.execute_input": "2021-06-20T07:25:06.663728Z",
     "iopub.status.busy": "2021-06-20T07:25:06.663303Z",
     "iopub.status.idle": "2021-06-20T07:25:06.671703Z",
     "shell.execute_reply": "2021-06-20T07:25:06.670648Z",
     "shell.execute_reply.started": "2021-06-20T07:25:06.663659Z"
    }
   },
   "outputs": [],
   "source": [
    "print(\"X_train shape: \", X_train.shape)\n",
    "print(\"y_train shape: \", y_train.shape)\n",
    "print(\"-------------------------------\")\n",
    "print(\"X_test shape: \", X_test.shape)\n",
    "print(\"y_test shape: \", y_test.shape)"
   ]
  },
  {
   "cell_type": "code",
   "execution_count": null,
   "metadata": {
    "execution": {
     "iopub.execute_input": "2021-06-20T07:25:06.674019Z",
     "iopub.status.busy": "2021-06-20T07:25:06.673506Z",
     "iopub.status.idle": "2021-06-20T07:25:06.681638Z",
     "shell.execute_reply": "2021-06-20T07:25:06.680578Z",
     "shell.execute_reply.started": "2021-06-20T07:25:06.673984Z"
    }
   },
   "outputs": [],
   "source": [
    "# reshaping y_train and y_test\n",
    "y_train = np.reshape(y_train, (len(y_train),1))\n",
    "y_test  = np.reshape(y_test , (len(y_test ),1))\n",
    "\n",
    "print(\"After reshaping\")\n",
    "print(\"y_train shape: \", y_train.shape)\n",
    "print(\"y_test shape: \", y_test.shape)"
   ]
  },
  {
   "cell_type": "code",
   "execution_count": null,
   "metadata": {
    "execution": {
     "iopub.execute_input": "2021-06-20T07:25:06.683879Z",
     "iopub.status.busy": "2021-06-20T07:25:06.683322Z",
     "iopub.status.idle": "2021-06-20T07:25:06.688313Z",
     "shell.execute_reply": "2021-06-20T07:25:06.687323Z",
     "shell.execute_reply.started": "2021-06-20T07:25:06.683836Z"
    }
   },
   "outputs": [],
   "source": [
    "X_train_Gabor  = X_train\n",
    "X_test_Gabor = X_test"
   ]
  },
  {
   "cell_type": "markdown",
   "metadata": {},
   "source": [
    "## Adding color channel "
   ]
  },
  {
   "cell_type": "code",
   "execution_count": null,
   "metadata": {
    "execution": {
     "iopub.execute_input": "2021-06-20T07:25:06.690352Z",
     "iopub.status.busy": "2021-06-20T07:25:06.689851Z",
     "iopub.status.idle": "2021-06-20T07:25:06.6975Z",
     "shell.execute_reply": "2021-06-20T07:25:06.696509Z",
     "shell.execute_reply.started": "2021-06-20T07:25:06.690319Z"
    }
   },
   "outputs": [],
   "source": [
    "X_train = np.expand_dims(X_train, axis=3)\n",
    "X_test = np.expand_dims(X_test, axis=3)\n",
    "\n",
    "print(\"After adding color channel\")\n",
    "print(\"X_train shape: \", X_train.shape)\n",
    "print(\"X_test shape: \", X_test.shape)"
   ]
  },
  {
   "cell_type": "markdown",
   "metadata": {},
   "source": [
    "## Normalizing pixel values "
   ]
  },
  {
   "cell_type": "code",
   "execution_count": null,
   "metadata": {
    "execution": {
     "iopub.execute_input": "2021-06-20T07:25:06.69918Z",
     "iopub.status.busy": "2021-06-20T07:25:06.698648Z",
     "iopub.status.idle": "2021-06-20T07:25:06.714583Z",
     "shell.execute_reply": "2021-06-20T07:25:06.713827Z",
     "shell.execute_reply.started": "2021-06-20T07:25:06.699145Z"
    }
   },
   "outputs": [],
   "source": [
    "X_train = X_train / 255.0\n",
    "X_test = X_test / 255.0"
   ]
  },
  {
   "cell_type": "markdown",
   "metadata": {},
   "source": [
    "## Converting single values to category array "
   ]
  },
  {
   "cell_type": "code",
   "execution_count": null,
   "metadata": {
    "execution": {
     "iopub.execute_input": "2021-06-20T07:25:06.717453Z",
     "iopub.status.busy": "2021-06-20T07:25:06.717201Z",
     "iopub.status.idle": "2021-06-20T07:25:06.725653Z",
     "shell.execute_reply": "2021-06-20T07:25:06.724918Z",
     "shell.execute_reply.started": "2021-06-20T07:25:06.717423Z"
    }
   },
   "outputs": [],
   "source": [
    "y_train[0]"
   ]
  },
  {
   "cell_type": "code",
   "execution_count": null,
   "metadata": {
    "execution": {
     "iopub.execute_input": "2021-06-20T07:25:06.727242Z",
     "iopub.status.busy": "2021-06-20T07:25:06.726888Z",
     "iopub.status.idle": "2021-06-20T07:25:06.733359Z",
     "shell.execute_reply": "2021-06-20T07:25:06.732524Z",
     "shell.execute_reply.started": "2021-06-20T07:25:06.727207Z"
    }
   },
   "outputs": [],
   "source": [
    "y_train_SVM = y_train\n",
    "y_test_SVM = y_test\n",
    "\n",
    "y_train = tf.keras.utils.to_categorical(y_train)\n",
    "y_test = tf.keras.utils.to_categorical(y_test)"
   ]
  },
  {
   "cell_type": "code",
   "execution_count": null,
   "metadata": {
    "execution": {
     "iopub.execute_input": "2021-06-20T07:25:06.734925Z",
     "iopub.status.busy": "2021-06-20T07:25:06.734572Z",
     "iopub.status.idle": "2021-06-20T07:25:06.744387Z",
     "shell.execute_reply": "2021-06-20T07:25:06.743628Z",
     "shell.execute_reply.started": "2021-06-20T07:25:06.73489Z"
    }
   },
   "outputs": [],
   "source": [
    "y_train[0]"
   ]
  },
  {
   "cell_type": "code",
   "execution_count": null,
   "metadata": {
    "execution": {
     "iopub.execute_input": "2021-06-20T07:25:06.747812Z",
     "iopub.status.busy": "2021-06-20T07:25:06.74754Z",
     "iopub.status.idle": "2021-06-20T07:25:06.754854Z",
     "shell.execute_reply": "2021-06-20T07:25:06.753762Z",
     "shell.execute_reply.started": "2021-06-20T07:25:06.747788Z"
    }
   },
   "outputs": [],
   "source": [
    "y_train.shape, y_test.shape"
   ]
  },
  {
   "cell_type": "markdown",
   "metadata": {},
   "source": [
    "# Feature Extraction"
   ]
  },
  {
   "cell_type": "markdown",
   "metadata": {},
   "source": [
    "# [HOG technqiue](https://www.analyticsvidhya.com/blog/2019/09/feature-engineering-images-introduction-hog-feature-descriptor/) \n",
    "For more info on implementation [visit here](https://www.analyticsvidhya.com/blog/2019/09/feature-engineering-images-introduction-hog-feature-descriptor/)"
   ]
  },
  {
   "cell_type": "code",
   "execution_count": null,
   "metadata": {
    "execution": {
     "iopub.execute_input": "2021-06-20T07:25:06.75663Z",
     "iopub.status.busy": "2021-06-20T07:25:06.756235Z",
     "iopub.status.idle": "2021-06-20T07:25:07.494646Z",
     "shell.execute_reply": "2021-06-20T07:25:07.493784Z",
     "shell.execute_reply.started": "2021-06-20T07:25:06.756597Z"
    }
   },
   "outputs": [],
   "source": [
    "from skimage.transform import resize\n",
    "from skimage.feature import hog"
   ]
  },
  {
   "cell_type": "markdown",
   "metadata": {},
   "source": [
    "### How Hog looks ?"
   ]
  },
  {
   "cell_type": "code",
   "execution_count": null,
   "metadata": {
    "execution": {
     "iopub.execute_input": "2021-06-20T07:25:07.496295Z",
     "iopub.status.busy": "2021-06-20T07:25:07.495964Z",
     "iopub.status.idle": "2021-06-20T07:25:07.796665Z",
     "shell.execute_reply": "2021-06-20T07:25:07.795896Z",
     "shell.execute_reply.started": "2021-06-20T07:25:07.496263Z"
    }
   },
   "outputs": [],
   "source": [
    "plt.figure(figsize=(10, 10))\n",
    "\n",
    "\n",
    "plt.subplot(1,2,1)\n",
    "img = random.choice(X_train)\n",
    "# first image needs to be resized before passing it to HOG descriptor\n",
    "resized_img =  resize(img, (128, 64))\n",
    "plt.title(\"Original image\")\n",
    "plt.imshow(img, cmap='gray')\n",
    "fd, hog_image = hog(\n",
    "    resized_img, \n",
    "    orientations=9, \n",
    "    pixels_per_cell=(8, 8),\n",
    "    cells_per_block=(2, 2), \n",
    "    visualize=True, \n",
    "    multichannel=True\n",
    ")\n",
    "plt.subplot(1,2,2)\n",
    "plt.title(\"HOG\")\n",
    "plt.imshow(resize(hog_image, (48, 48)), cmap='gray')\n",
    "plt.axis('off')"
   ]
  },
  {
   "cell_type": "markdown",
   "metadata": {},
   "source": [
    "### Creating Feature Vectors for training and testing "
   ]
  },
  {
   "cell_type": "code",
   "execution_count": null,
   "metadata": {
    "execution": {
     "iopub.execute_input": "2021-06-20T07:25:07.800106Z",
     "iopub.status.busy": "2021-06-20T07:25:07.799826Z",
     "iopub.status.idle": "2021-06-20T07:25:07.806917Z",
     "shell.execute_reply": "2021-06-20T07:25:07.806015Z",
     "shell.execute_reply.started": "2021-06-20T07:25:07.800069Z"
    }
   },
   "outputs": [],
   "source": [
    "def Create_Hog_features(data):\n",
    "    Feature_data = np.zeros((len(data),48,48))\n",
    "\n",
    "    for i in range(len(data)):\n",
    "        img = data[i]\n",
    "        resized_img = resize(img, (128, 64))\n",
    "        fd, hog_image = hog(\n",
    "            resized_img, \n",
    "            orientations=9, \n",
    "            pixels_per_cell=(8, 8),\n",
    "            cells_per_block=(2, 2), \n",
    "            visualize=True, \n",
    "            multichannel=True\n",
    "        )\n",
    "        Feature_data[i] = resize(hog_image, (48, 48))\n",
    "    return Feature_data"
   ]
  },
  {
   "cell_type": "code",
   "execution_count": null,
   "metadata": {
    "execution": {
     "iopub.execute_input": "2021-06-20T07:25:07.808959Z",
     "iopub.status.busy": "2021-06-20T07:25:07.808581Z",
     "iopub.status.idle": "2021-06-20T07:25:53.417323Z",
     "shell.execute_reply": "2021-06-20T07:25:53.416425Z",
     "shell.execute_reply.started": "2021-06-20T07:25:07.80892Z"
    }
   },
   "outputs": [],
   "source": [
    "Feature_X_train = Create_Hog_features(X_train)\n",
    "Feature_X_train.shape"
   ]
  },
  {
   "cell_type": "code",
   "execution_count": null,
   "metadata": {
    "execution": {
     "iopub.execute_input": "2021-06-20T07:25:53.423972Z",
     "iopub.status.busy": "2021-06-20T07:25:53.421781Z",
     "iopub.status.idle": "2021-06-20T07:25:53.519493Z",
     "shell.execute_reply": "2021-06-20T07:25:53.518657Z",
     "shell.execute_reply.started": "2021-06-20T07:25:53.423915Z"
    }
   },
   "outputs": [],
   "source": [
    "plt.imshow(random.choice(Feature_X_train), cmap='gray')\n",
    "plt.axis('off')"
   ]
  },
  {
   "cell_type": "code",
   "execution_count": null,
   "metadata": {
    "execution": {
     "iopub.execute_input": "2021-06-20T07:25:53.525488Z",
     "iopub.status.busy": "2021-06-20T07:25:53.523381Z",
     "iopub.status.idle": "2021-06-20T07:26:04.302094Z",
     "shell.execute_reply": "2021-06-20T07:26:04.301162Z",
     "shell.execute_reply.started": "2021-06-20T07:25:53.525443Z"
    }
   },
   "outputs": [],
   "source": [
    "# doing same for test data \n",
    "Feature_X_test = Create_Hog_features(X_test)\n",
    "\n",
    "Feature_X_test.shape"
   ]
  },
  {
   "cell_type": "code",
   "execution_count": null,
   "metadata": {
    "execution": {
     "iopub.execute_input": "2021-06-20T07:26:04.309Z",
     "iopub.status.busy": "2021-06-20T07:26:04.306678Z",
     "iopub.status.idle": "2021-06-20T07:26:04.402675Z",
     "shell.execute_reply": "2021-06-20T07:26:04.401841Z",
     "shell.execute_reply.started": "2021-06-20T07:26:04.308954Z"
    }
   },
   "outputs": [],
   "source": [
    "plt.imshow(random.choice(Feature_X_test), cmap='gray')\n",
    "plt.axis('off')"
   ]
  },
  {
   "cell_type": "code",
   "execution_count": null,
   "metadata": {
    "execution": {
     "iopub.execute_input": "2021-06-20T07:26:04.408858Z",
     "iopub.status.busy": "2021-06-20T07:26:04.406637Z",
     "iopub.status.idle": "2021-06-20T07:26:04.419697Z",
     "shell.execute_reply": "2021-06-20T07:26:04.418496Z",
     "shell.execute_reply.started": "2021-06-20T07:26:04.408814Z"
    }
   },
   "outputs": [],
   "source": [
    "# Again adding color channel as it got removed while converting img to hog img\n",
    "X_train_HOG = np.expand_dims(Feature_X_train, axis=3)\n",
    "X_test_HOG = np.expand_dims(Feature_X_test, axis=3)\n",
    "\n",
    "print(\"After adding color channel\")\n",
    "print(\"X_train_HOG shape: \", X_train_HOG.shape)\n",
    "print(\"X_test_HOG shape: \", X_test_HOG.shape)"
   ]
  },
  {
   "cell_type": "code",
   "execution_count": null,
   "metadata": {
    "execution": {
     "iopub.execute_input": "2021-06-20T07:26:04.426936Z",
     "iopub.status.busy": "2021-06-20T07:26:04.424594Z",
     "iopub.status.idle": "2021-06-20T07:26:04.434097Z",
     "shell.execute_reply": "2021-06-20T07:26:04.43307Z",
     "shell.execute_reply.started": "2021-06-20T07:26:04.426892Z"
    }
   },
   "outputs": [],
   "source": [
    "print(\"X_train_HOG shape: \", X_train_HOG.shape)\n",
    "print(\"y_train shape: \", y_train.shape)\n",
    "print(\"X_test_HOG shape: \", X_test_HOG.shape)\n",
    "print(\"y_test shape: \", y_test.shape)"
   ]
  },
  {
   "cell_type": "markdown",
   "metadata": {},
   "source": [
    "### Data Augmentation"
   ]
  },
  {
   "cell_type": "code",
   "execution_count": null,
   "metadata": {
    "execution": {
     "iopub.execute_input": "2021-06-16T08:18:06.765998Z",
     "iopub.status.busy": "2021-06-16T08:18:06.765282Z",
     "iopub.status.idle": "2021-06-16T08:18:06.771734Z",
     "shell.execute_reply": "2021-06-16T08:18:06.770154Z",
     "shell.execute_reply.started": "2021-06-16T08:18:06.765953Z"
    }
   },
   "outputs": [],
   "source": [
    "# train_datagen = ImageDataGenerator(\n",
    "#     rotation_range=25, width_shift_range=0.1,\n",
    "#     height_shift_range=0.1, shear_range=0.2, \n",
    "#     zoom_range=0.2,horizontal_flip=True, \n",
    "#     fill_mode=\"nearest\"\n",
    "# )"
   ]
  },
  {
   "cell_type": "markdown",
   "metadata": {},
   "source": [
    "### Training and testing the HOG - CNN model"
   ]
  },
  {
   "cell_type": "markdown",
   "metadata": {},
   "source": [
    "Referred from [here](https://www.kaggle.com/milan400/human-emotion-detection-by-using-cnn#Creating-Model)"
   ]
  },
  {
   "cell_type": "code",
   "execution_count": null,
   "metadata": {
    "execution": {
     "iopub.execute_input": "2021-06-16T08:50:39.77798Z",
     "iopub.status.busy": "2021-06-16T08:50:39.777577Z",
     "iopub.status.idle": "2021-06-16T08:50:39.786679Z",
     "shell.execute_reply": "2021-06-16T08:50:39.785529Z",
     "shell.execute_reply.started": "2021-06-16T08:50:39.777946Z"
    }
   },
   "outputs": [],
   "source": [
    "def create_model(input_shape=None):\n",
    "    if input_shape is None :\n",
    "        input_shape=(48,48,1)\n",
    "\n",
    "    model = Sequential()\n",
    "    model.add(Conv2D(6, (5, 5), input_shape=input_shape, padding='same', activation = 'relu'))\n",
    "    model.add(MaxPool2D(pool_size=(2, 2)))\n",
    "\n",
    "    model.add(Conv2D(16, (5, 5), padding='same', activation = 'relu'))\n",
    "    model.add(MaxPool2D(pool_size=(2, 2)))\n",
    "\n",
    "    model.add(Conv2D(64, (3, 3), activation = 'relu'))\n",
    "    model.add(MaxPool2D(pool_size=(2, 2)))\n",
    "\n",
    "    model.add(Flatten())\n",
    "    model.add(Dense(128, activation = 'relu'))\n",
    "    model.add(Dropout(0.5))\n",
    "    model.add(Dense(7, activation = 'softmax'))\n",
    "    \n",
    "    return model "
   ]
  },
  {
   "cell_type": "code",
   "execution_count": null,
   "metadata": {
    "execution": {
     "iopub.execute_input": "2021-06-16T08:50:41.086688Z",
     "iopub.status.busy": "2021-06-16T08:50:41.086321Z",
     "iopub.status.idle": "2021-06-16T08:50:41.093352Z",
     "shell.execute_reply": "2021-06-16T08:50:41.092003Z",
     "shell.execute_reply.started": "2021-06-16T08:50:41.086655Z"
    }
   },
   "outputs": [],
   "source": [
    "es = EarlyStopping(\n",
    "    monitor='val_accuracy', min_delta=0.0001, patience=10, verbose=2,\n",
    "    mode='max', baseline=None, restore_best_weights=True\n",
    ")\n",
    "lr = ReduceLROnPlateau(\n",
    "    monitor='val_accuracy', factor=0.1, patience=5, verbose=2,\n",
    "    mode='max', min_delta=1e-5, cooldown=0, min_lr=0\n",
    ")\n",
    "\n",
    "callbacks = [es, lr]"
   ]
  },
  {
   "cell_type": "code",
   "execution_count": null,
   "metadata": {
    "execution": {
     "iopub.execute_input": "2021-06-16T08:35:33.052424Z",
     "iopub.status.busy": "2021-06-16T08:35:33.052055Z",
     "iopub.status.idle": "2021-06-16T08:35:33.132674Z",
     "shell.execute_reply": "2021-06-16T08:35:33.131447Z",
     "shell.execute_reply.started": "2021-06-16T08:35:33.052388Z"
    }
   },
   "outputs": [],
   "source": [
    "HOG_model = create_model()"
   ]
  },
  {
   "cell_type": "code",
   "execution_count": null,
   "metadata": {
    "execution": {
     "iopub.execute_input": "2021-06-16T08:35:38.32693Z",
     "iopub.status.busy": "2021-06-16T08:35:38.326545Z",
     "iopub.status.idle": "2021-06-16T08:35:38.342011Z",
     "shell.execute_reply": "2021-06-16T08:35:38.337055Z",
     "shell.execute_reply.started": "2021-06-16T08:35:38.326895Z"
    }
   },
   "outputs": [],
   "source": [
    "HOG_model.summary()"
   ]
  },
  {
   "cell_type": "code",
   "execution_count": null,
   "metadata": {
    "execution": {
     "iopub.execute_input": "2021-06-16T08:35:39.018768Z",
     "iopub.status.busy": "2021-06-16T08:35:39.018385Z",
     "iopub.status.idle": "2021-06-16T08:35:39.036698Z",
     "shell.execute_reply": "2021-06-16T08:35:39.035304Z",
     "shell.execute_reply.started": "2021-06-16T08:35:39.018735Z"
    }
   },
   "outputs": [],
   "source": [
    "HOG_model.compile(loss='categorical_crossentropy', metrics=['accuracy'], optimizer='adam' )"
   ]
  },
  {
   "cell_type": "code",
   "execution_count": null,
   "metadata": {
    "execution": {
     "iopub.execute_input": "2021-06-16T08:35:40.320266Z",
     "iopub.status.busy": "2021-06-16T08:35:40.319798Z",
     "iopub.status.idle": "2021-06-16T08:36:05.392822Z",
     "shell.execute_reply": "2021-06-16T08:36:05.391741Z",
     "shell.execute_reply.started": "2021-06-16T08:35:40.320219Z"
    }
   },
   "outputs": [],
   "source": [
    "HOG_history = HOG_model.fit(X_train_HOG, y_train, batch_size=8 , epochs=50, validation_data = (X_test_HOG, y_test), callbacks = [callbacks])"
   ]
  },
  {
   "cell_type": "code",
   "execution_count": null,
   "metadata": {
    "execution": {
     "iopub.execute_input": "2021-06-16T08:36:05.396946Z",
     "iopub.status.busy": "2021-06-16T08:36:05.396621Z",
     "iopub.status.idle": "2021-06-16T08:36:05.406718Z",
     "shell.execute_reply": "2021-06-16T08:36:05.403428Z",
     "shell.execute_reply.started": "2021-06-16T08:36:05.396914Z"
    }
   },
   "outputs": [],
   "source": [
    "def plot_performance(history):\n",
    "    plt.figure(figsize=(12, 8))\n",
    "\n",
    "    plt.subplot(2, 1, 1)\n",
    "    plt.plot(history.history['loss'], label='train')\n",
    "    plt.plot(history.history['val_loss'], label='val')\n",
    "\n",
    "    plt.legend()\n",
    "    plt.grid()\n",
    "    plt.title('train and val loss evolution')\n",
    "\n",
    "    plt.subplot(2, 1, 2)\n",
    "    plt.plot(history.history['accuracy'], label='train')\n",
    "    plt.plot(history.history['val_accuracy'], label='val')\n",
    "\n",
    "    plt.legend()\n",
    "    plt.grid()\n",
    "    plt.title('train and val accuracy')"
   ]
  },
  {
   "cell_type": "code",
   "execution_count": null,
   "metadata": {
    "execution": {
     "iopub.execute_input": "2021-06-16T08:36:05.410598Z",
     "iopub.status.busy": "2021-06-16T08:36:05.410137Z",
     "iopub.status.idle": "2021-06-16T08:36:05.812724Z",
     "shell.execute_reply": "2021-06-16T08:36:05.811646Z",
     "shell.execute_reply.started": "2021-06-16T08:36:05.410553Z"
    }
   },
   "outputs": [],
   "source": [
    "plot_performance(HOG_history)"
   ]
  },
  {
   "cell_type": "code",
   "execution_count": null,
   "metadata": {
    "execution": {
     "iopub.execute_input": "2021-06-16T08:36:05.815496Z",
     "iopub.status.busy": "2021-06-16T08:36:05.815074Z",
     "iopub.status.idle": "2021-06-16T08:36:05.821222Z",
     "shell.execute_reply": "2021-06-16T08:36:05.81969Z",
     "shell.execute_reply.started": "2021-06-16T08:36:05.815449Z"
    }
   },
   "outputs": [],
   "source": [
    "acc = []"
   ]
  },
  {
   "cell_type": "code",
   "execution_count": null,
   "metadata": {
    "execution": {
     "iopub.execute_input": "2021-06-16T08:36:05.823778Z",
     "iopub.status.busy": "2021-06-16T08:36:05.8233Z",
     "iopub.status.idle": "2021-06-16T08:36:05.967819Z",
     "shell.execute_reply": "2021-06-16T08:36:05.966599Z",
     "shell.execute_reply.started": "2021-06-16T08:36:05.823733Z"
    }
   },
   "outputs": [],
   "source": [
    "HOG_acc = HOG_model.evaluate(X_test_HOG, y_test, verbose = 0)[1]\n",
    "acc.append(HOG_acc)\n",
    "print(\"HOG Accuracy :\",HOG_model.evaluate(X_test_HOG, y_test, verbose = 0)[1])"
   ]
  },
  {
   "cell_type": "code",
   "execution_count": null,
   "metadata": {
    "execution": {
     "iopub.execute_input": "2021-06-16T08:36:05.970033Z",
     "iopub.status.busy": "2021-06-16T08:36:05.969622Z",
     "iopub.status.idle": "2021-06-16T08:36:06.019749Z",
     "shell.execute_reply": "2021-06-16T08:36:06.018534Z",
     "shell.execute_reply.started": "2021-06-16T08:36:05.969991Z"
    }
   },
   "outputs": [],
   "source": [
    "HOG_model.save('HOG_model.h5')"
   ]
  },
  {
   "cell_type": "markdown",
   "metadata": {},
   "source": [
    "# LBP technqiue\n",
    "Implementation Referred from [here](https://github.com/salonibhatiadutta/To-get-the-local-binary-pattern-LBP-of-image-and-draw-its-histogram/blob/master/gray_image_conversion.ipynb)"
   ]
  },
  {
   "cell_type": "code",
   "execution_count": null,
   "metadata": {
    "execution": {
     "iopub.execute_input": "2021-06-16T08:18:31.852603Z",
     "iopub.status.busy": "2021-06-16T08:18:31.852076Z",
     "iopub.status.idle": "2021-06-16T08:18:31.862637Z",
     "shell.execute_reply": "2021-06-16T08:18:31.860893Z",
     "shell.execute_reply.started": "2021-06-16T08:18:31.852562Z"
    }
   },
   "outputs": [],
   "source": [
    "def Binarypattern(im):                               # creating function to get local binary pattern\n",
    "    img= np.zeros_like(im)\n",
    "    n=3                                              # taking kernel of size 3*3\n",
    "    for i in range(0,im.shape[0]-n):                 # for image height\n",
    "        for j in range(0,im.shape[1]-n):               # for image width\n",
    "            x  = im[i:i+n,j:j+n]                     # reading the entire image in 3*3 format\n",
    "            center       = x[1,1]                    # taking the center value for 3*3 kernel\n",
    "            img1        = (x >= center)*1.0          # checking if neighbouring values of center value is greater or less than center value\n",
    "            img1_vector = img1.T.flatten()           # getting the image pixel values \n",
    "            img1_vector = np.delete(img1_vector,4)  \n",
    "            digit = np.where(img1_vector)[0]         \n",
    "            if len(digit) >= 1:                     # converting the neighbouring pixels according to center pixel value\n",
    "                num = np.sum(2**digit)              # if n> center assign 1 and if n<center assign 0\n",
    "            else:                                    # if 1 then multiply by 2^digit and if 0 then making value 0 and aggregating all the values of kernel to get new center value\n",
    "                num = 0\n",
    "            img[i+1,j+1] = num\n",
    "    return(img)"
   ]
  },
  {
   "cell_type": "markdown",
   "metadata": {},
   "source": [
    "### How LBP looks ?"
   ]
  },
  {
   "cell_type": "code",
   "execution_count": null,
   "metadata": {
    "execution": {
     "iopub.execute_input": "2021-06-16T08:18:31.865692Z",
     "iopub.status.busy": "2021-06-16T08:18:31.864721Z",
     "iopub.status.idle": "2021-06-16T08:18:32.563091Z",
     "shell.execute_reply": "2021-06-16T08:18:32.561635Z",
     "shell.execute_reply.started": "2021-06-16T08:18:31.865641Z"
    }
   },
   "outputs": [],
   "source": [
    "plt.figure(figsize = (10,10))\n",
    "\n",
    "plt.subplot(1,2,1)\n",
    "img = random.choice(X_train)\n",
    "plt.title(\"Original  image\")\n",
    "plt.imshow(img, cmap='gray')\n",
    "\n",
    "plt.subplot(1,2,2)\n",
    "plt.title(\"LBP\")\n",
    "imgLBP=Binarypattern(img)             # calling the LBP function using gray image\n",
    "plt.imshow(imgLBP, cmap='gray')\n",
    "plt.axis('off')"
   ]
  },
  {
   "cell_type": "markdown",
   "metadata": {},
   "source": [
    "### Creating Feature Vectors for training and testing "
   ]
  },
  {
   "cell_type": "code",
   "execution_count": null,
   "metadata": {
    "execution": {
     "iopub.execute_input": "2021-06-16T08:18:32.565723Z",
     "iopub.status.busy": "2021-06-16T08:18:32.564972Z",
     "iopub.status.idle": "2021-06-16T08:18:32.578726Z",
     "shell.execute_reply": "2021-06-16T08:18:32.57701Z",
     "shell.execute_reply.started": "2021-06-16T08:18:32.565677Z"
    }
   },
   "outputs": [],
   "source": [
    "X_train.shape"
   ]
  },
  {
   "cell_type": "code",
   "execution_count": null,
   "metadata": {
    "execution": {
     "iopub.execute_input": "2021-06-16T08:18:32.581564Z",
     "iopub.status.busy": "2021-06-16T08:18:32.580967Z",
     "iopub.status.idle": "2021-06-16T08:18:32.593603Z",
     "shell.execute_reply": "2021-06-16T08:18:32.591621Z",
     "shell.execute_reply.started": "2021-06-16T08:18:32.581502Z"
    }
   },
   "outputs": [],
   "source": [
    "def create_LBP_features(data):\n",
    "    Feature_data = np.zeros(data.shape)\n",
    "\n",
    "    for i in range(len(data)):\n",
    "        img = data[i]\n",
    "        imgLBP=Binarypattern(img)  \n",
    "        Feature_data[i] = imgLBP\n",
    "    \n",
    "    return Feature_data"
   ]
  },
  {
   "cell_type": "code",
   "execution_count": null,
   "metadata": {
    "execution": {
     "iopub.execute_input": "2021-06-16T08:18:32.596189Z",
     "iopub.status.busy": "2021-06-16T08:18:32.595645Z",
     "iopub.status.idle": "2021-06-16T08:19:30.366725Z",
     "shell.execute_reply": "2021-06-16T08:19:30.365593Z",
     "shell.execute_reply.started": "2021-06-16T08:18:32.596141Z"
    }
   },
   "outputs": [],
   "source": [
    "Feature_X_train = create_LBP_features(X_train)"
   ]
  },
  {
   "cell_type": "code",
   "execution_count": null,
   "metadata": {
    "execution": {
     "iopub.execute_input": "2021-06-16T08:19:30.368961Z",
     "iopub.status.busy": "2021-06-16T08:19:30.368444Z",
     "iopub.status.idle": "2021-06-16T08:19:30.375953Z",
     "shell.execute_reply": "2021-06-16T08:19:30.374795Z",
     "shell.execute_reply.started": "2021-06-16T08:19:30.368918Z"
    }
   },
   "outputs": [],
   "source": [
    "Feature_X_train.shape"
   ]
  },
  {
   "cell_type": "code",
   "execution_count": null,
   "metadata": {
    "execution": {
     "iopub.execute_input": "2021-06-16T08:19:30.378262Z",
     "iopub.status.busy": "2021-06-16T08:19:30.377535Z",
     "iopub.status.idle": "2021-06-16T08:19:30.528339Z",
     "shell.execute_reply": "2021-06-16T08:19:30.526945Z",
     "shell.execute_reply.started": "2021-06-16T08:19:30.378209Z"
    }
   },
   "outputs": [],
   "source": [
    "img = random.choice(Feature_X_train)\n",
    "plt.imshow(img, cmap='gray')"
   ]
  },
  {
   "cell_type": "code",
   "execution_count": null,
   "metadata": {
    "execution": {
     "iopub.execute_input": "2021-06-16T08:19:30.530268Z",
     "iopub.status.busy": "2021-06-16T08:19:30.529753Z",
     "iopub.status.idle": "2021-06-16T08:19:45.58672Z",
     "shell.execute_reply": "2021-06-16T08:19:45.585325Z",
     "shell.execute_reply.started": "2021-06-16T08:19:30.530228Z"
    }
   },
   "outputs": [],
   "source": [
    "Feature_X_test = create_LBP_features(X_test)\n",
    "Feature_X_test.shape"
   ]
  },
  {
   "cell_type": "code",
   "execution_count": null,
   "metadata": {
    "execution": {
     "iopub.execute_input": "2021-06-16T08:19:45.589584Z",
     "iopub.status.busy": "2021-06-16T08:19:45.589101Z",
     "iopub.status.idle": "2021-06-16T08:19:45.743144Z",
     "shell.execute_reply": "2021-06-16T08:19:45.741876Z",
     "shell.execute_reply.started": "2021-06-16T08:19:45.589537Z"
    }
   },
   "outputs": [],
   "source": [
    "img = random.choice(Feature_X_test)\n",
    "plt.imshow(img, cmap='gray')"
   ]
  },
  {
   "cell_type": "markdown",
   "metadata": {},
   "source": [
    "### Training and testing LBP-CNN model"
   ]
  },
  {
   "cell_type": "code",
   "execution_count": null,
   "metadata": {
    "execution": {
     "iopub.execute_input": "2021-06-16T08:36:06.022113Z",
     "iopub.status.busy": "2021-06-16T08:36:06.021613Z",
     "iopub.status.idle": "2021-06-16T08:36:06.107095Z",
     "shell.execute_reply": "2021-06-16T08:36:06.105849Z",
     "shell.execute_reply.started": "2021-06-16T08:36:06.022065Z"
    }
   },
   "outputs": [],
   "source": [
    "LBP_model = create_model()\n",
    "LBP_model.compile(loss='categorical_crossentropy', metrics=['accuracy'], optimizer='adam' )"
   ]
  },
  {
   "cell_type": "code",
   "execution_count": null,
   "metadata": {
    "execution": {
     "iopub.execute_input": "2021-06-16T08:36:06.110752Z",
     "iopub.status.busy": "2021-06-16T08:36:06.110249Z",
     "iopub.status.idle": "2021-06-16T08:36:27.646482Z",
     "shell.execute_reply": "2021-06-16T08:36:27.645291Z",
     "shell.execute_reply.started": "2021-06-16T08:36:06.110704Z"
    }
   },
   "outputs": [],
   "source": [
    "LBP_history = LBP_model.fit(Feature_X_train, y_train, batch_size=8 , epochs=50, validation_data = (Feature_X_test, y_test) ,callbacks = [callbacks])"
   ]
  },
  {
   "cell_type": "code",
   "execution_count": null,
   "metadata": {
    "execution": {
     "iopub.execute_input": "2021-06-16T08:36:27.654764Z",
     "iopub.status.busy": "2021-06-16T08:36:27.652094Z",
     "iopub.status.idle": "2021-06-16T08:36:28.295338Z",
     "shell.execute_reply": "2021-06-16T08:36:28.293839Z",
     "shell.execute_reply.started": "2021-06-16T08:36:27.654718Z"
    }
   },
   "outputs": [],
   "source": [
    "plot_performance(LBP_history)"
   ]
  },
  {
   "cell_type": "code",
   "execution_count": null,
   "metadata": {
    "execution": {
     "iopub.execute_input": "2021-06-16T08:36:28.300795Z",
     "iopub.status.busy": "2021-06-16T08:36:28.300266Z",
     "iopub.status.idle": "2021-06-16T08:36:28.518046Z",
     "shell.execute_reply": "2021-06-16T08:36:28.516799Z",
     "shell.execute_reply.started": "2021-06-16T08:36:28.300734Z"
    }
   },
   "outputs": [],
   "source": [
    "LBP_acc = LBP_model.evaluate(Feature_X_test, y_test, verbose = 0)[1]\n",
    "acc.append(LBP_acc)\n",
    "print(\"LBP Accuracy :\",LBP_model.evaluate(Feature_X_test, y_test, verbose = 0)[1])"
   ]
  },
  {
   "cell_type": "code",
   "execution_count": null,
   "metadata": {
    "execution": {
     "iopub.execute_input": "2021-06-16T08:36:28.525492Z",
     "iopub.status.busy": "2021-06-16T08:36:28.522378Z",
     "iopub.status.idle": "2021-06-16T08:36:28.595889Z",
     "shell.execute_reply": "2021-06-16T08:36:28.594507Z",
     "shell.execute_reply.started": "2021-06-16T08:36:28.525441Z"
    }
   },
   "outputs": [],
   "source": [
    "LBP_model.save('LBP_model.h5')"
   ]
  },
  {
   "cell_type": "markdown",
   "metadata": {},
   "source": [
    "# SIFT "
   ]
  },
  {
   "cell_type": "markdown",
   "metadata": {},
   "source": [
    "### Let's see some SIFT features "
   ]
  },
  {
   "cell_type": "code",
   "execution_count": null,
   "metadata": {
    "execution": {
     "iopub.execute_input": "2021-06-16T08:20:12.6985Z",
     "iopub.status.busy": "2021-06-16T08:20:12.69803Z",
     "iopub.status.idle": "2021-06-16T08:20:13.363228Z",
     "shell.execute_reply": "2021-06-16T08:20:13.362149Z",
     "shell.execute_reply.started": "2021-06-16T08:20:12.698458Z"
    }
   },
   "outputs": [],
   "source": [
    "L = 3\n",
    "W = 3\n",
    "fig, axes = plt.subplots(L, W, figsize = (15,15))\n",
    "axes = axes.ravel()\n",
    "\n",
    "for i in range(0, L * W):  \n",
    "    sample = random.choice(data)\n",
    "    image8bit = cv2.normalize(sample[0], None, 0, 255, cv2.NORM_MINMAX).astype('uint8')\n",
    "    sift = cv2.SIFT_create()\n",
    "    kp, des = sift.detectAndCompute(image8bit,None)\n",
    "\n",
    "    img = cv2.drawKeypoints(image=image8bit, outImage=sample[0], keypoints = kp, flags = 4, color = (255, 0, 0))\n",
    "    axes[i].set_title(\"Expression = \"+str(CATEGORIES[sample[1]]))\n",
    "    axes[i].imshow(img, cmap='gray')\n",
    "    axes[i].axis('off')\n",
    "plt.subplots_adjust(wspace=0.5)"
   ]
  },
  {
   "cell_type": "code",
   "execution_count": null,
   "metadata": {
    "execution": {
     "iopub.execute_input": "2021-06-16T08:20:13.365666Z",
     "iopub.status.busy": "2021-06-16T08:20:13.365178Z",
     "iopub.status.idle": "2021-06-16T08:20:13.373942Z",
     "shell.execute_reply": "2021-06-16T08:20:13.372299Z",
     "shell.execute_reply.started": "2021-06-16T08:20:13.365608Z"
    }
   },
   "outputs": [],
   "source": [
    "img.shape"
   ]
  },
  {
   "cell_type": "markdown",
   "metadata": {},
   "source": [
    "so to create a feature vector we will have to create an empty array of shape (len(data), 48,48,3) "
   ]
  },
  {
   "cell_type": "markdown",
   "metadata": {},
   "source": [
    "### Creating Feature Vectors for training and testing "
   ]
  },
  {
   "cell_type": "code",
   "execution_count": null,
   "metadata": {
    "execution": {
     "iopub.execute_input": "2021-06-16T08:20:13.376575Z",
     "iopub.status.busy": "2021-06-16T08:20:13.37593Z",
     "iopub.status.idle": "2021-06-16T08:20:13.388216Z",
     "shell.execute_reply": "2021-06-16T08:20:13.386634Z",
     "shell.execute_reply.started": "2021-06-16T08:20:13.37653Z"
    }
   },
   "outputs": [],
   "source": [
    "def create_SIFT_features(data):\n",
    "    Feature_data = np.zeros((len(data),48,48,3))\n",
    "\n",
    "    for i in range(len(data)):\n",
    "        img = data[i]\n",
    "        image8bit = cv2.normalize(img, None, 0, 255, cv2.NORM_MINMAX).astype('uint8')\n",
    "        sift = cv2.SIFT_create()\n",
    "        kp, des = sift.detectAndCompute(image8bit,None)\n",
    "\n",
    "        img = cv2.drawKeypoints(image=image8bit, outImage=img, keypoints = kp, flags = 4, color = (255, 0, 0))\n",
    "        Feature_data[i] = img/255.0\n",
    "\n",
    "        \n",
    "    return Feature_data "
   ]
  },
  {
   "cell_type": "code",
   "execution_count": null,
   "metadata": {
    "execution": {
     "iopub.execute_input": "2021-06-16T08:20:13.390913Z",
     "iopub.status.busy": "2021-06-16T08:20:13.390108Z",
     "iopub.status.idle": "2021-06-16T08:20:15.484595Z",
     "shell.execute_reply": "2021-06-16T08:20:15.483465Z",
     "shell.execute_reply.started": "2021-06-16T08:20:13.390839Z"
    }
   },
   "outputs": [],
   "source": [
    "X_train_SIFT = create_SIFT_features(X_train) \n",
    "X_train_SIFT.shape"
   ]
  },
  {
   "cell_type": "code",
   "execution_count": null,
   "metadata": {
    "execution": {
     "iopub.execute_input": "2021-06-16T08:20:15.487699Z",
     "iopub.status.busy": "2021-06-16T08:20:15.487284Z",
     "iopub.status.idle": "2021-06-16T08:20:15.638581Z",
     "shell.execute_reply": "2021-06-16T08:20:15.637153Z",
     "shell.execute_reply.started": "2021-06-16T08:20:15.487654Z"
    }
   },
   "outputs": [],
   "source": [
    "plt.imshow(X_train_SIFT[0], cmap='gray')"
   ]
  },
  {
   "cell_type": "code",
   "execution_count": null,
   "metadata": {
    "execution": {
     "iopub.execute_input": "2021-06-16T08:20:15.640942Z",
     "iopub.status.busy": "2021-06-16T08:20:15.640504Z",
     "iopub.status.idle": "2021-06-16T08:20:16.176428Z",
     "shell.execute_reply": "2021-06-16T08:20:16.175397Z",
     "shell.execute_reply.started": "2021-06-16T08:20:15.640898Z"
    }
   },
   "outputs": [],
   "source": [
    "X_test_SIFT = create_SIFT_features(X_test) \n",
    "X_test_SIFT.shape"
   ]
  },
  {
   "cell_type": "code",
   "execution_count": null,
   "metadata": {
    "execution": {
     "iopub.execute_input": "2021-06-16T08:20:16.178609Z",
     "iopub.status.busy": "2021-06-16T08:20:16.178168Z",
     "iopub.status.idle": "2021-06-16T08:20:16.335079Z",
     "shell.execute_reply": "2021-06-16T08:20:16.333965Z",
     "shell.execute_reply.started": "2021-06-16T08:20:16.178562Z"
    }
   },
   "outputs": [],
   "source": [
    "plt.imshow(X_test_SIFT[0], cmap='gray')"
   ]
  },
  {
   "cell_type": "code",
   "execution_count": null,
   "metadata": {
    "execution": {
     "iopub.execute_input": "2021-06-16T08:36:28.598112Z",
     "iopub.status.busy": "2021-06-16T08:36:28.597634Z",
     "iopub.status.idle": "2021-06-16T08:36:28.684259Z",
     "shell.execute_reply": "2021-06-16T08:36:28.683039Z",
     "shell.execute_reply.started": "2021-06-16T08:36:28.598052Z"
    }
   },
   "outputs": [],
   "source": [
    "SIFT_model = create_model(input_shape=(48,48,3))\n",
    "SIFT_model.compile(loss='categorical_crossentropy', metrics=['accuracy'], optimizer='adam' )"
   ]
  },
  {
   "cell_type": "code",
   "execution_count": null,
   "metadata": {
    "execution": {
     "iopub.execute_input": "2021-06-16T08:36:28.686249Z",
     "iopub.status.busy": "2021-06-16T08:36:28.685799Z",
     "iopub.status.idle": "2021-06-16T08:36:46.967419Z",
     "shell.execute_reply": "2021-06-16T08:36:46.966354Z",
     "shell.execute_reply.started": "2021-06-16T08:36:28.686204Z"
    }
   },
   "outputs": [],
   "source": [
    "SIFT_history = SIFT_model.fit(X_train_SIFT, y_train, batch_size=8 , epochs=50, validation_data = (X_test_SIFT, y_test),  callbacks = [callbacks])"
   ]
  },
  {
   "cell_type": "code",
   "execution_count": null,
   "metadata": {
    "execution": {
     "iopub.execute_input": "2021-06-16T08:36:46.971737Z",
     "iopub.status.busy": "2021-06-16T08:36:46.971391Z",
     "iopub.status.idle": "2021-06-16T08:36:47.398548Z",
     "shell.execute_reply": "2021-06-16T08:36:47.3974Z",
     "shell.execute_reply.started": "2021-06-16T08:36:46.971705Z"
    }
   },
   "outputs": [],
   "source": [
    "plot_performance(SIFT_history)"
   ]
  },
  {
   "cell_type": "code",
   "execution_count": null,
   "metadata": {
    "execution": {
     "iopub.execute_input": "2021-06-16T08:36:47.401416Z",
     "iopub.status.busy": "2021-06-16T08:36:47.400925Z",
     "iopub.status.idle": "2021-06-16T08:36:47.556648Z",
     "shell.execute_reply": "2021-06-16T08:36:47.555278Z",
     "shell.execute_reply.started": "2021-06-16T08:36:47.401371Z"
    }
   },
   "outputs": [],
   "source": [
    "SIFT_acc = SIFT_model.evaluate(X_test_SIFT, y_test, verbose = 0)[1]\n",
    "acc.append(SIFT_acc)\n",
    "print(\"SIFT Accuracy :\",SIFT_model.evaluate(X_test_SIFT, y_test, verbose = 0)[1])"
   ]
  },
  {
   "cell_type": "code",
   "execution_count": null,
   "metadata": {
    "execution": {
     "iopub.execute_input": "2021-06-16T08:20:35.201179Z",
     "iopub.status.busy": "2021-06-16T08:20:35.200662Z",
     "iopub.status.idle": "2021-06-16T08:20:35.247716Z",
     "shell.execute_reply": "2021-06-16T08:20:35.246597Z",
     "shell.execute_reply.started": "2021-06-16T08:20:35.201089Z"
    }
   },
   "outputs": [],
   "source": [
    "SIFT_model.save('SIFT_model.h5')"
   ]
  },
  {
   "cell_type": "markdown",
   "metadata": {},
   "source": [
    "# Gabor Filters \n",
    "with help of my friend : https://www.kaggle.com/sashankmvv/gabor-cnn-ck/notebook"
   ]
  },
  {
   "cell_type": "code",
   "execution_count": null,
   "metadata": {
    "execution": {
     "iopub.execute_input": "2021-06-16T08:20:35.256873Z",
     "iopub.status.busy": "2021-06-16T08:20:35.256508Z",
     "iopub.status.idle": "2021-06-16T08:20:35.273632Z",
     "shell.execute_reply": "2021-06-16T08:20:35.272106Z",
     "shell.execute_reply.started": "2021-06-16T08:20:35.256824Z"
    }
   },
   "outputs": [],
   "source": [
    "def Gabor_filter(K_size=111, Sigma=10, Gamma=1.2, Lambda=10, Psi=0, angle=0):\n",
    "    # get half size\n",
    "    d = K_size // 2\n",
    "\n",
    "    # prepare kernel\n",
    "    gabor = np.zeros((K_size, K_size), dtype=np.float32)\n",
    "\n",
    "    # each value\n",
    "    for y in range(K_size):\n",
    "        for x in range(K_size):\n",
    "            # distance from center\n",
    "            px = x - d\n",
    "            py = y - d\n",
    "\n",
    "            # degree -> radian\n",
    "            theta = angle / 180. * np.pi\n",
    "\n",
    "            # get kernel x\n",
    "            _x = np.cos(theta) * px + np.sin(theta) * py\n",
    "\n",
    "            # get kernel y\n",
    "            _y = -np.sin(theta) * px + np.cos(theta) * py\n",
    "\n",
    "            # fill kernel\n",
    "            gabor[y, x] = np.exp(-(_x**2 + Gamma**2 * _y**2) / (2 * Sigma**2)) * np.cos(2*np.pi*_x/Lambda + Psi)\n",
    "\n",
    "    # kernel normalization\n",
    "    gabor /= np.sum(np.abs(gabor))\n",
    "\n",
    "    return gabor\n",
    "\n",
    "\n",
    "# Use Gabor filter to act on the image\n",
    "def Gabor_filtering(gray, K_size=111, Sigma=10, Gamma=1.2, Lambda=10, Psi=0, angle=0):\n",
    "    # get shape\n",
    "    H, W = gray.shape\n",
    "\n",
    "    # padding\n",
    "    gray = np.pad(gray, (K_size//2, K_size//2), 'edge')\n",
    "\n",
    "    # prepare out image\n",
    "    out = np.zeros((H, W), dtype=np.float32)\n",
    "\n",
    "    # get gabor filter\n",
    "    gabor = Gabor_filter(K_size=K_size, Sigma=Sigma, Gamma=Gamma, Lambda=Lambda, Psi=0, angle=angle)\n",
    "\n",
    "    # filtering\n",
    "    for y in range(H):\n",
    "        for x in range(W):\n",
    "            out[y, x] = np.sum(gray[y : y + K_size, x : x + K_size] * gabor)\n",
    "\n",
    "    out = np.clip(out, 0, 255)\n",
    "    out = out.astype(np.uint8)\n",
    "\n",
    "    return out\n",
    "\n",
    "\n",
    "# Use 6 Gabor filters with different angles to perform feature extraction on the image\n",
    "def Gabor_process(img):\n",
    "#     print(img.shape)\n",
    "    # get shape\n",
    "    H, W = img.shape\n",
    "\n",
    "    # gray scale\n",
    "#     gray = BGR2GRAY(img).astype(np.float32)\n",
    "\n",
    "    # define angle\n",
    "    #As = [0, 45, 90, 135]\n",
    "    As = [0,30,60,90,120,150]\n",
    "\n",
    "    # prepare pyplot\n",
    "#     plt.subplots_adjust(left=0, right=1, top=1, bottom=0, hspace=0, wspace=0.2)\n",
    "\n",
    "    out = np.zeros([H, W], dtype=np.float32)\n",
    "\n",
    "    # each angle\n",
    "    for i, A in enumerate(As):\n",
    "    \n",
    "        # gabor filtering\n",
    "        _out = Gabor_filtering(img, K_size=11, Sigma=1.5, Gamma=1.2, Lambda=3, angle=A)\n",
    "         \n",
    "\n",
    "        # add gabor filtered image\n",
    "        out += _out\n",
    "        \n",
    "\n",
    "    # scale normalization\n",
    "    out = out /out.max()*255\n",
    "    out = out.astype(np.uint8)\n",
    "\n",
    "    return out"
   ]
  },
  {
   "cell_type": "code",
   "execution_count": null,
   "metadata": {
    "execution": {
     "iopub.execute_input": "2021-06-16T08:20:35.277587Z",
     "iopub.status.busy": "2021-06-16T08:20:35.277077Z",
     "iopub.status.idle": "2021-06-16T08:20:35.293591Z",
     "shell.execute_reply": "2021-06-16T08:20:35.292331Z",
     "shell.execute_reply.started": "2021-06-16T08:20:35.277538Z"
    }
   },
   "outputs": [],
   "source": [
    "def create_Gabor_features(data):\n",
    "    Feature_data = np.zeros((len(data),48,48,1))\n",
    "\n",
    "    for i in range(len(data)):\n",
    "        img = data[i]\n",
    "        out = Gabor_process(img)\n",
    "        out = np.expand_dims(out , axis = 2) # adding color channel\n",
    "        Feature_data[i] = out/255.00\n",
    "\n",
    "        \n",
    "    return Feature_data "
   ]
  },
  {
   "cell_type": "code",
   "execution_count": null,
   "metadata": {
    "execution": {
     "iopub.execute_input": "2021-06-16T08:20:35.295769Z",
     "iopub.status.busy": "2021-06-16T08:20:35.295287Z",
     "iopub.status.idle": "2021-06-16T08:20:35.30981Z",
     "shell.execute_reply": "2021-06-16T08:20:35.308421Z",
     "shell.execute_reply.started": "2021-06-16T08:20:35.295722Z"
    }
   },
   "outputs": [],
   "source": [
    "X_train.shape"
   ]
  },
  {
   "cell_type": "code",
   "execution_count": null,
   "metadata": {
    "execution": {
     "iopub.execute_input": "2021-06-16T08:20:35.312367Z",
     "iopub.status.busy": "2021-06-16T08:20:35.311844Z",
     "iopub.status.idle": "2021-06-16T08:20:35.467346Z",
     "shell.execute_reply": "2021-06-16T08:20:35.466347Z",
     "shell.execute_reply.started": "2021-06-16T08:20:35.312306Z"
    }
   },
   "outputs": [],
   "source": [
    "plt.imshow(X_train_Gabor[0]/255.0, cmap ='gray')"
   ]
  },
  {
   "cell_type": "code",
   "execution_count": null,
   "metadata": {
    "execution": {
     "iopub.execute_input": "2021-06-16T08:20:35.46981Z",
     "iopub.status.busy": "2021-06-16T08:20:35.469077Z",
     "iopub.status.idle": "2021-06-16T08:23:28.614598Z",
     "shell.execute_reply": "2021-06-16T08:23:28.61344Z",
     "shell.execute_reply.started": "2021-06-16T08:20:35.469766Z"
    }
   },
   "outputs": [],
   "source": [
    "X_train_Gabor=create_Gabor_features(X_train_Gabor)\n",
    "X_test_Gabor=create_Gabor_features(X_test_Gabor)\n",
    "\n",
    "X_train_Gabor.shape , X_test_Gabor.shape"
   ]
  },
  {
   "cell_type": "code",
   "execution_count": null,
   "metadata": {
    "execution": {
     "iopub.execute_input": "2021-06-16T08:23:28.618216Z",
     "iopub.status.busy": "2021-06-16T08:23:28.617874Z",
     "iopub.status.idle": "2021-06-16T08:23:28.760231Z",
     "shell.execute_reply": "2021-06-16T08:23:28.758846Z",
     "shell.execute_reply.started": "2021-06-16T08:23:28.618186Z"
    }
   },
   "outputs": [],
   "source": [
    "sample = random.randint(100,500)\n",
    "plt.subplot(1,2,1)\n",
    "plt.imshow(X_train[sample],cmap='gray')\n",
    "plt.axis(\"off\")\n",
    "plt.subplot(1,2,2)\n",
    "plt.imshow(X_train_Gabor[sample],cmap='gray')\n",
    "plt.axis(\"off\")"
   ]
  },
  {
   "cell_type": "code",
   "execution_count": null,
   "metadata": {
    "execution": {
     "iopub.execute_input": "2021-06-16T08:23:28.762599Z",
     "iopub.status.busy": "2021-06-16T08:23:28.762152Z",
     "iopub.status.idle": "2021-06-16T08:23:28.770424Z",
     "shell.execute_reply": "2021-06-16T08:23:28.76893Z",
     "shell.execute_reply.started": "2021-06-16T08:23:28.762553Z"
    }
   },
   "outputs": [],
   "source": [
    "X_train_Gabor.shape"
   ]
  },
  {
   "cell_type": "code",
   "execution_count": null,
   "metadata": {
    "execution": {
     "iopub.execute_input": "2021-06-16T08:36:47.55891Z",
     "iopub.status.busy": "2021-06-16T08:36:47.558448Z",
     "iopub.status.idle": "2021-06-16T08:36:47.641918Z",
     "shell.execute_reply": "2021-06-16T08:36:47.640596Z",
     "shell.execute_reply.started": "2021-06-16T08:36:47.558845Z"
    }
   },
   "outputs": [],
   "source": [
    "Gabor_model = create_model()\n",
    "Gabor_model.compile(loss='categorical_crossentropy', metrics=['accuracy'], optimizer='adam' )"
   ]
  },
  {
   "cell_type": "code",
   "execution_count": null,
   "metadata": {
    "execution": {
     "iopub.execute_input": "2021-06-16T08:36:47.643995Z",
     "iopub.status.busy": "2021-06-16T08:36:47.643484Z",
     "iopub.status.idle": "2021-06-16T08:37:03.444759Z",
     "shell.execute_reply": "2021-06-16T08:37:03.441033Z",
     "shell.execute_reply.started": "2021-06-16T08:36:47.64395Z"
    }
   },
   "outputs": [],
   "source": [
    "Gabor_history = Gabor_model.fit(X_train_Gabor, y_train, batch_size=8 , epochs=50, validation_data = (X_test_Gabor, y_test) ,callbacks = [callbacks])"
   ]
  },
  {
   "cell_type": "code",
   "execution_count": null,
   "metadata": {
    "execution": {
     "iopub.execute_input": "2021-06-16T08:37:03.450257Z",
     "iopub.status.busy": "2021-06-16T08:37:03.449809Z",
     "iopub.status.idle": "2021-06-16T08:37:03.991142Z",
     "shell.execute_reply": "2021-06-16T08:37:03.990093Z",
     "shell.execute_reply.started": "2021-06-16T08:37:03.450213Z"
    }
   },
   "outputs": [],
   "source": [
    "plot_performance(Gabor_history)"
   ]
  },
  {
   "cell_type": "code",
   "execution_count": null,
   "metadata": {
    "execution": {
     "iopub.execute_input": "2021-06-16T08:37:03.993148Z",
     "iopub.status.busy": "2021-06-16T08:37:03.992694Z",
     "iopub.status.idle": "2021-06-16T08:37:04.130538Z",
     "shell.execute_reply": "2021-06-16T08:37:04.129253Z",
     "shell.execute_reply.started": "2021-06-16T08:37:03.993094Z"
    }
   },
   "outputs": [],
   "source": [
    "Gabor_acc = Gabor_model.evaluate(X_test_Gabor, y_test, verbose = 0)[1]\n",
    "acc.append(Gabor_acc)\n",
    "print(\"Gabor Accuracy :\",Gabor_model.evaluate(X_test_Gabor, y_test, verbose = 0)[1])"
   ]
  },
  {
   "cell_type": "code",
   "execution_count": null,
   "metadata": {
    "execution": {
     "iopub.execute_input": "2021-06-16T08:37:04.132714Z",
     "iopub.status.busy": "2021-06-16T08:37:04.13229Z",
     "iopub.status.idle": "2021-06-16T08:37:04.179153Z",
     "shell.execute_reply": "2021-06-16T08:37:04.177828Z",
     "shell.execute_reply.started": "2021-06-16T08:37:04.132672Z"
    }
   },
   "outputs": [],
   "source": [
    "Gabor_model.save('Gabor_model.h5')"
   ]
  },
  {
   "cell_type": "markdown",
   "metadata": {},
   "source": [
    "# Without Feature Extraction "
   ]
  },
  {
   "cell_type": "code",
   "execution_count": null,
   "metadata": {
    "execution": {
     "iopub.execute_input": "2021-06-16T08:50:48.222907Z",
     "iopub.status.busy": "2021-06-16T08:50:48.222445Z",
     "iopub.status.idle": "2021-06-16T08:50:49.341622Z",
     "shell.execute_reply": "2021-06-16T08:50:49.340558Z",
     "shell.execute_reply.started": "2021-06-16T08:50:48.222847Z"
    }
   },
   "outputs": [],
   "source": [
    "WFE_model = create_model()\n",
    "WFE_model.compile(loss='categorical_crossentropy', metrics=['accuracy'], optimizer='adam' )"
   ]
  },
  {
   "cell_type": "code",
   "execution_count": null,
   "metadata": {
    "execution": {
     "iopub.execute_input": "2021-06-16T08:50:49.343995Z",
     "iopub.status.busy": "2021-06-16T08:50:49.34344Z",
     "iopub.status.idle": "2021-06-16T08:51:10.874885Z",
     "shell.execute_reply": "2021-06-16T08:51:10.873365Z",
     "shell.execute_reply.started": "2021-06-16T08:50:49.343861Z"
    }
   },
   "outputs": [],
   "source": [
    "WFE_history = WFE_model.fit(X_train, y_train, batch_size=8 , epochs=50, validation_data = (X_test, y_test) ,callbacks = [callbacks])"
   ]
  },
  {
   "cell_type": "code",
   "execution_count": null,
   "metadata": {
    "execution": {
     "iopub.execute_input": "2021-06-16T08:51:10.881271Z",
     "iopub.status.busy": "2021-06-16T08:51:10.880818Z",
     "iopub.status.idle": "2021-06-16T08:51:10.921231Z",
     "shell.execute_reply": "2021-06-16T08:51:10.918036Z",
     "shell.execute_reply.started": "2021-06-16T08:51:10.881223Z"
    }
   },
   "outputs": [],
   "source": [
    "plot_performance(WFE_history)"
   ]
  },
  {
   "cell_type": "code",
   "execution_count": null,
   "metadata": {
    "execution": {
     "iopub.execute_input": "2021-06-16T08:51:24.099926Z",
     "iopub.status.busy": "2021-06-16T08:51:24.099474Z",
     "iopub.status.idle": "2021-06-16T08:51:24.183237Z",
     "shell.execute_reply": "2021-06-16T08:51:24.182162Z",
     "shell.execute_reply.started": "2021-06-16T08:51:24.09988Z"
    }
   },
   "outputs": [],
   "source": [
    "WFE_acc = WFE_model.evaluate(X_test, y_test, verbose = 0)[1]\n",
    "acc.append(WFE_acc)\n",
    "print(\"Without Feature extraction Accuracy :\", WFE_acc)"
   ]
  },
  {
   "cell_type": "code",
   "execution_count": null,
   "metadata": {
    "execution": {
     "iopub.execute_input": "2021-06-16T08:51:46.398049Z",
     "iopub.status.busy": "2021-06-16T08:51:46.39754Z",
     "iopub.status.idle": "2021-06-16T08:51:46.446552Z",
     "shell.execute_reply": "2021-06-16T08:51:46.445526Z",
     "shell.execute_reply.started": "2021-06-16T08:51:46.398006Z"
    }
   },
   "outputs": [],
   "source": [
    "WFE_model.save('WFE_model.h5')"
   ]
  },
  {
   "cell_type": "markdown",
   "metadata": {},
   "source": [
    "# Comparing accuracies "
   ]
  },
  {
   "cell_type": "code",
   "execution_count": null,
   "metadata": {
    "execution": {
     "iopub.execute_input": "2021-06-16T08:37:22.327778Z",
     "iopub.status.busy": "2021-06-16T08:37:22.327487Z",
     "iopub.status.idle": "2021-06-16T08:37:22.336407Z",
     "shell.execute_reply": "2021-06-16T08:37:22.334891Z",
     "shell.execute_reply.started": "2021-06-16T08:37:22.327745Z"
    }
   },
   "outputs": [],
   "source": [
    "acc"
   ]
  },
  {
   "cell_type": "code",
   "execution_count": null,
   "metadata": {
    "execution": {
     "iopub.execute_input": "2021-06-16T08:37:22.339388Z",
     "iopub.status.busy": "2021-06-16T08:37:22.338632Z",
     "iopub.status.idle": "2021-06-16T08:37:22.347717Z",
     "shell.execute_reply": "2021-06-16T08:37:22.345839Z",
     "shell.execute_reply.started": "2021-06-16T08:37:22.339339Z"
    }
   },
   "outputs": [],
   "source": [
    "results = pd.DataFrame(acc, index=['HOG', 'LBP', 'SIFT', 'Gabor', 'Without Feature Extraction'], columns = ['Accuracies'])"
   ]
  },
  {
   "cell_type": "code",
   "execution_count": null,
   "metadata": {
    "execution": {
     "iopub.execute_input": "2021-06-16T08:37:22.350515Z",
     "iopub.status.busy": "2021-06-16T08:37:22.349935Z",
     "iopub.status.idle": "2021-06-16T08:37:22.371794Z",
     "shell.execute_reply": "2021-06-16T08:37:22.370313Z",
     "shell.execute_reply.started": "2021-06-16T08:37:22.350389Z"
    }
   },
   "outputs": [],
   "source": [
    "dfStyler = results.style.set_properties(**{'text-align': 'left'})\n",
    "dfStyler.set_table_styles([dict(selector='th', props=[('text-align', 'left')])])"
   ]
  },
  {
   "cell_type": "markdown",
   "metadata": {},
   "source": [
    "### So it can be seen that feature extraction with gabor filters are giving pretty good results than the other methods but also it can noted that CNNs witout any feature extraction methods are also giving good results than the other feature extraction techniques such as HOG, LBP, SIFT."
   ]
  },
  {
   "cell_type": "markdown",
   "metadata": {},
   "source": [
    "# HOG-SVM"
   ]
  },
  {
   "cell_type": "code",
   "execution_count": null,
   "metadata": {
    "execution": {
     "iopub.execute_input": "2021-06-20T07:26:04.43706Z",
     "iopub.status.busy": "2021-06-20T07:26:04.436641Z",
     "iopub.status.idle": "2021-06-20T07:26:04.444938Z",
     "shell.execute_reply": "2021-06-20T07:26:04.443909Z",
     "shell.execute_reply.started": "2021-06-20T07:26:04.437021Z"
    }
   },
   "outputs": [],
   "source": [
    "Feature_X_train.shape"
   ]
  },
  {
   "cell_type": "code",
   "execution_count": null,
   "metadata": {
    "execution": {
     "iopub.execute_input": "2021-06-20T07:26:04.447359Z",
     "iopub.status.busy": "2021-06-20T07:26:04.44679Z",
     "iopub.status.idle": "2021-06-20T07:26:04.457123Z",
     "shell.execute_reply": "2021-06-20T07:26:04.456216Z",
     "shell.execute_reply.started": "2021-06-20T07:26:04.447317Z"
    }
   },
   "outputs": [],
   "source": [
    "Feature_X_train[0].shape"
   ]
  },
  {
   "cell_type": "code",
   "execution_count": null,
   "metadata": {
    "execution": {
     "iopub.execute_input": "2021-06-20T07:26:22.118675Z",
     "iopub.status.busy": "2021-06-20T07:26:22.118356Z",
     "iopub.status.idle": "2021-06-20T07:26:22.131571Z",
     "shell.execute_reply": "2021-06-20T07:26:22.130621Z",
     "shell.execute_reply.started": "2021-06-20T07:26:22.118646Z"
    }
   },
   "outputs": [],
   "source": [
    "X_train_HOG_Flat = np.zeros((len(X_train), 48*48))\n",
    "for i in range(len(Feature_X_train)):\n",
    "    img = Feature_X_train[0]\n",
    "    img = img.flatten()\n",
    "    X_train_HOG_Flat[i] = img\n",
    "X_train_HOG_Flat.shape"
   ]
  },
  {
   "cell_type": "code",
   "execution_count": null,
   "metadata": {
    "execution": {
     "iopub.execute_input": "2021-06-20T07:26:22.605869Z",
     "iopub.status.busy": "2021-06-20T07:26:22.605579Z",
     "iopub.status.idle": "2021-06-20T07:26:22.615264Z",
     "shell.execute_reply": "2021-06-20T07:26:22.614244Z",
     "shell.execute_reply.started": "2021-06-20T07:26:22.605835Z"
    }
   },
   "outputs": [],
   "source": [
    "X_test_HOG_Flat = np.zeros((len(X_test), 48*48))\n",
    "for i in range(len(Feature_X_test)):\n",
    "    img = Feature_X_test[0]\n",
    "    img = img.flatten()\n",
    "    X_test_HOG_Flat[i] = img\n",
    "X_test_HOG_Flat.shape"
   ]
  },
  {
   "cell_type": "code",
   "execution_count": null,
   "metadata": {
    "execution": {
     "iopub.execute_input": "2021-06-20T07:26:24.561135Z",
     "iopub.status.busy": "2021-06-20T07:26:24.560796Z",
     "iopub.status.idle": "2021-06-20T07:26:24.566912Z",
     "shell.execute_reply": "2021-06-20T07:26:24.564283Z",
     "shell.execute_reply.started": "2021-06-20T07:26:24.561101Z"
    }
   },
   "outputs": [],
   "source": [
    "from sklearn.preprocessing import StandardScaler\n",
    "from sklearn.decomposition import PCA"
   ]
  },
  {
   "cell_type": "code",
   "execution_count": null,
   "metadata": {
    "execution": {
     "iopub.execute_input": "2021-06-20T07:26:29.954295Z",
     "iopub.status.busy": "2021-06-20T07:26:29.953947Z",
     "iopub.status.idle": "2021-06-20T07:26:29.986175Z",
     "shell.execute_reply": "2021-06-20T07:26:29.985338Z",
     "shell.execute_reply.started": "2021-06-20T07:26:29.954263Z"
    }
   },
   "outputs": [],
   "source": [
    "scaler = StandardScaler()\n",
    "X_train_HOG_Flat = scaler.fit_transform(X_train_HOG_Flat)"
   ]
  },
  {
   "cell_type": "code",
   "execution_count": null,
   "metadata": {
    "execution": {
     "iopub.execute_input": "2021-06-20T07:26:34.206737Z",
     "iopub.status.busy": "2021-06-20T07:26:34.206397Z",
     "iopub.status.idle": "2021-06-20T07:26:34.212022Z",
     "shell.execute_reply": "2021-06-20T07:26:34.211101Z",
     "shell.execute_reply.started": "2021-06-20T07:26:34.206706Z"
    }
   },
   "outputs": [],
   "source": [
    "X_train_HOG_Flat.shape"
   ]
  },
  {
   "cell_type": "code",
   "execution_count": null,
   "metadata": {
    "execution": {
     "iopub.execute_input": "2021-06-20T07:26:35.243426Z",
     "iopub.status.busy": "2021-06-20T07:26:35.243041Z",
     "iopub.status.idle": "2021-06-20T07:26:35.249001Z",
     "shell.execute_reply": "2021-06-20T07:26:35.248022Z",
     "shell.execute_reply.started": "2021-06-20T07:26:35.243396Z"
    }
   },
   "outputs": [],
   "source": [
    "from sklearn import svm\n",
    "from sklearn.model_selection import GridSearchCV\n",
    "param_grid={'C':[0.1,1,10,100],'gamma':[0.0001,0.001,0.1,1],'kernel':['rbf','poly']}\n",
    "svc=svm.SVC(probability=True, verbose = True )\n",
    "model=GridSearchCV(svc,param_grid)"
   ]
  },
  {
   "cell_type": "code",
   "execution_count": null,
   "metadata": {
    "execution": {
     "iopub.execute_input": "2021-06-20T07:26:36.370522Z",
     "iopub.status.busy": "2021-06-20T07:26:36.370182Z",
     "iopub.status.idle": "2021-06-20T07:26:36.375932Z",
     "shell.execute_reply": "2021-06-20T07:26:36.374962Z",
     "shell.execute_reply.started": "2021-06-20T07:26:36.370492Z"
    }
   },
   "outputs": [],
   "source": [
    "y_train_SVM.shape"
   ]
  },
  {
   "cell_type": "code",
   "execution_count": null,
   "metadata": {
    "execution": {
     "iopub.execute_input": "2021-06-20T07:26:37.463653Z",
     "iopub.status.busy": "2021-06-20T07:26:37.463322Z",
     "iopub.status.idle": "2021-06-20T07:26:37.469724Z",
     "shell.execute_reply": "2021-06-20T07:26:37.468572Z",
     "shell.execute_reply.started": "2021-06-20T07:26:37.463624Z"
    }
   },
   "outputs": [],
   "source": [
    "a = np.squeeze(y_train_SVM)\n",
    "a.shape"
   ]
  },
  {
   "cell_type": "code",
   "execution_count": null,
   "metadata": {
    "execution": {
     "iopub.execute_input": "2021-06-20T07:26:39.116902Z",
     "iopub.status.busy": "2021-06-20T07:26:39.116547Z",
     "iopub.status.idle": "2021-06-20T08:02:52.82985Z",
     "shell.execute_reply": "2021-06-20T08:02:52.828998Z",
     "shell.execute_reply.started": "2021-06-20T07:26:39.116871Z"
    }
   },
   "outputs": [],
   "source": [
    "model.fit(X_train_HOG_Flat,a)"
   ]
  },
  {
   "cell_type": "code",
   "execution_count": null,
   "metadata": {
    "execution": {
     "iopub.execute_input": "2021-06-20T08:02:52.831581Z",
     "iopub.status.busy": "2021-06-20T08:02:52.831321Z",
     "iopub.status.idle": "2021-06-20T08:02:53.047435Z",
     "shell.execute_reply": "2021-06-20T08:02:53.04643Z",
     "shell.execute_reply.started": "2021-06-20T08:02:52.831555Z"
    }
   },
   "outputs": [],
   "source": [
    "from sklearn.metrics import accuracy_score\n",
    "y_pred = model.predict(X_test_HOG_Flat)\n",
    "accuracy_score(np.squeeze(y_test_SVM),y_pred)"
   ]
  },
  {
   "cell_type": "code",
   "execution_count": null,
   "metadata": {
    "execution": {
     "iopub.execute_input": "2021-06-20T08:33:53.797709Z",
     "iopub.status.busy": "2021-06-20T08:33:53.79734Z",
     "iopub.status.idle": "2021-06-20T08:33:53.802887Z",
     "shell.execute_reply": "2021-06-20T08:33:53.802114Z",
     "shell.execute_reply.started": "2021-06-20T08:33:53.797674Z"
    }
   },
   "outputs": [],
   "source": [
    "1-0.2131979695431472"
   ]
  },
  {
   "cell_type": "code",
   "execution_count": null,
   "metadata": {
    "execution": {
     "iopub.execute_input": "2021-06-20T08:33:27.944801Z",
     "iopub.status.busy": "2021-06-20T08:33:27.944483Z",
     "iopub.status.idle": "2021-06-20T08:33:28.102695Z",
     "shell.execute_reply": "2021-06-20T08:33:28.100532Z",
     "shell.execute_reply.started": "2021-06-20T08:33:27.944771Z"
    }
   },
   "outputs": [],
   "source": [
    "pca = PCA(n_components=2)\n",
    "principalComponents = pca.fit_transform(X_train_HOG_Flat)"
   ]
  },
  {
   "cell_type": "code",
   "execution_count": null,
   "metadata": {
    "execution": {
     "iopub.execute_input": "2021-06-20T08:33:29.738669Z",
     "iopub.status.busy": "2021-06-20T08:33:29.738334Z",
     "iopub.status.idle": "2021-06-20T08:33:29.743175Z",
     "shell.execute_reply": "2021-06-20T08:33:29.74237Z",
     "shell.execute_reply.started": "2021-06-20T08:33:29.738638Z"
    }
   },
   "outputs": [],
   "source": [
    "principalComponents.shape"
   ]
  },
  {
   "cell_type": "code",
   "execution_count": null,
   "metadata": {},
   "outputs": [],
   "source": []
  }
 ],
 "metadata": {
  "kaggle": {
   "accelerator": "gpu",
   "dataSources": [
    {
     "datasetId": 65125,
     "sourceId": 128470,
     "sourceType": "datasetVersion"
    }
   ],
   "dockerImageVersionId": 30096,
   "isGpuEnabled": true,
   "isInternetEnabled": false,
   "language": "python",
   "sourceType": "notebook"
  },
  "kernelspec": {
   "display_name": "Python 3 (ipykernel)",
   "language": "python",
   "name": "python3"
  },
  "language_info": {
   "codemirror_mode": {
    "name": "ipython",
    "version": 3
   },
   "file_extension": ".py",
   "mimetype": "text/x-python",
   "name": "python",
   "nbconvert_exporter": "python",
   "pygments_lexer": "ipython3",
   "version": "3.9.12"
  }
 },
 "nbformat": 4,
 "nbformat_minor": 4
}
